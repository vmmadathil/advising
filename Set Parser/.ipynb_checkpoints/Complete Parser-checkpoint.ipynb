{
 "cells": [
  {
   "cell_type": "code",
   "execution_count": 14,
   "metadata": {},
   "outputs": [],
   "source": [
    "#import statements\n",
    "import json\n",
    "import pandas as pd\n",
    "from collections import OrderedDict"
   ]
  },
  {
   "cell_type": "code",
   "execution_count": 62,
   "metadata": {},
   "outputs": [
    {
     "data": {
      "text/html": [
       "<div>\n",
       "<style scoped>\n",
       "    .dataframe tbody tr th:only-of-type {\n",
       "        vertical-align: middle;\n",
       "    }\n",
       "\n",
       "    .dataframe tbody tr th {\n",
       "        vertical-align: top;\n",
       "    }\n",
       "\n",
       "    .dataframe thead th {\n",
       "        text-align: right;\n",
       "    }\n",
       "</style>\n",
       "<table border=\"1\" class=\"dataframe\">\n",
       "  <thead>\n",
       "    <tr style=\"text-align: right;\">\n",
       "      <th></th>\n",
       "      <th>0</th>\n",
       "      <th>1</th>\n",
       "      <th>2</th>\n",
       "      <th>3</th>\n",
       "    </tr>\n",
       "  </thead>\n",
       "  <tbody>\n",
       "    <tr>\n",
       "      <th>577</th>\n",
       "      <td>0</td>\n",
       "      <td>6 SET 3: REGIONAL COURSES</td>\n",
       "      <td>0</td>\n",
       "      <td>0</td>\n",
       "    </tr>\n",
       "    <tr>\n",
       "      <th>578</th>\n",
       "      <td>0</td>\n",
       "      <td>SET 4 OR (3 SET 5 AND 3 SET 6): METHODS AND AN...</td>\n",
       "      <td>0</td>\n",
       "      <td>0</td>\n",
       "    </tr>\n",
       "    <tr>\n",
       "      <th>579</th>\n",
       "      <td>0</td>\n",
       "      <td>3 SET 7: ADVANCED STATISTICS OR DATA ANALYSIS ...</td>\n",
       "      <td>0</td>\n",
       "      <td>0</td>\n",
       "    </tr>\n",
       "    <tr>\n",
       "      <th>580</th>\n",
       "      <td>0</td>\n",
       "      <td>6 SET 8 OR 6 SET 9: ADVANCED SOCIAL OR NATURAL...</td>\n",
       "      <td>0</td>\n",
       "      <td>0</td>\n",
       "    </tr>\n",
       "    <tr>\n",
       "      <th>581</th>\n",
       "      <td>0</td>\n",
       "      <td>(6 SET 10 AND 3 SET 11) OR (3 SET 10 AND 6 SET...</td>\n",
       "      <td>0</td>\n",
       "      <td>0</td>\n",
       "    </tr>\n",
       "  </tbody>\n",
       "</table>\n",
       "</div>"
      ],
      "text/plain": [
       "     0                                                  1  2  3\n",
       "577  0                          6 SET 3: REGIONAL COURSES  0  0\n",
       "578  0  SET 4 OR (3 SET 5 AND 3 SET 6): METHODS AND AN...  0  0\n",
       "579  0  3 SET 7: ADVANCED STATISTICS OR DATA ANALYSIS ...  0  0\n",
       "580  0  6 SET 8 OR 6 SET 9: ADVANCED SOCIAL OR NATURAL...  0  0\n",
       "581  0  (6 SET 10 AND 3 SET 11) OR (3 SET 10 AND 6 SET...  0  0"
      ]
     },
     "execution_count": 62,
     "metadata": {},
     "output_type": "execute_result"
    }
   ],
   "source": [
    "#read Excel file\n",
    "dedman_data = pd.read_excel(\"dedman_tests.xlsx\", header = None)\n",
    "dedman_data = dedman_data.fillna(0)\n",
    "dedman_data.tail()"
   ]
  },
  {
   "cell_type": "code",
   "execution_count": 59,
   "metadata": {},
   "outputs": [],
   "source": [
    "allDicts = OrderedDict()\n",
    "courseDict = OrderedDict()\n",
    "errorDict = OrderedDict()\n",
    "courseDict[\"name\"] = []\n",
    "courseDict[\"type\"] = []\n",
    "courseDict[\"rules\"] = None\n",
    "courseDict[\"sets\"] = []\n",
    "courseDict[\"special_req\"] = \" \"\n",
    "totCol = len(dedman_data.columns)\n",
    "totRow = len(dedman_data.index)\n",
    "allSets = []\n",
    "isEnd = False\n",
    "rowPosition = 0\n",
    "colPosition = 0"
   ]
  },
  {
   "cell_type": "code",
   "execution_count": 19,
   "metadata": {},
   "outputs": [],
   "source": [
    "'''\n",
    "Function to append the sets and rules to the Course Dictionary\n",
    "\n",
    "Args:\n",
    "    sets (list): a list of all the sets their respective courses\n",
    "    rules (list): a list of all the rules of the degree\n",
    "'''\n",
    "def createDict(sets, rules):\n",
    "    global courseDict\n",
    "    #adding rules and sets to the Course Dictionary\n",
    "    courseDict[\"rules\"] = rules\n",
    "    courseDict[\"sets\"] = sets\n",
    "    #writing to json file\n",
    "    print(courseDict)\n",
    "    #with open('courseDict.json', 'w') as fp:\n",
    "        #json.dump(courseDict, fp)"
   ]
  },
  {
   "cell_type": "code",
   "execution_count": 46,
   "metadata": {},
   "outputs": [],
   "source": [
    "'''\n",
    "Function to create a list of rules for the degree\n",
    "\n",
    "Args:\n",
    "    line (str): the contents of the current cell being processed from \n",
    "    course_data\n",
    "    rulesList (list): an empty list to store the rules in after being \n",
    "    parsed\n",
    "'''\n",
    "def createRules(line, rulesList):\n",
    "    #calling global variables for position and total number of entries\n",
    "    global rowPosition\n",
    "    global totRow\n",
    "    \n",
    "    #the loop should execute until all the lines are being read\n",
    "    while(rowPosition < totRow or line == 0):\n",
    "        #append rule to the rulesList\n",
    "        rulesList.append(line)\n",
    "        #increment to next line\n",
    "        incrementLine()\n",
    "        line = dedman_data[colPosition][rowPosition]\n",
    "    return rulesList"
   ]
  },
  {
   "cell_type": "code",
   "execution_count": 23,
   "metadata": {},
   "outputs": [],
   "source": [
    "'''\n",
    "Function to create lists of courses\n",
    "\n",
    "Args:\n",
    "    line (str): the contents of the current cell being processed from \n",
    "    course_data\n",
    "'''\n",
    "def createCourses(line):\n",
    "    #initalize empty list \n",
    "    courseList = []\n",
    "    '''\n",
    "    creating key from the first word of the line. This key will be used \n",
    "    to know when to stop storing the contents into the courseList\n",
    "    '''\n",
    "    key = line.split(' ', 1)[0]\n",
    "    #loop should execute until the word \"SET\" is found in the line\n",
    "    while (key != 'SET'):\n",
    "        #add line to the courseList \n",
    "        courseList.append(line)\n",
    "        #increent to next line\n",
    "        incrementLine()\n",
    "        #reassign variables \n",
    "        line = dedman_data[colPosition][rowPosition]\n",
    "        key = line.split(' ', 1)[0]\n",
    "    return (courseList)\n",
    "'''\n",
    "Function to create set objects for the course dictionary\n",
    "\n",
    "Args:\n",
    "    line (str): the contents of the current cell being processed from \n",
    "    course_data\n",
    "'''\n",
    "def createSets(line):\n",
    "    global position\n",
    "    #parsing and assigning the name of the set\n",
    "    setName = \"SET \" + line.split()[1]\n",
    "    incrementLine()\n",
    "    line = dedman_data[colPosition][rowPosition]\n",
    "    #calling createCourses function to parse Courses for the set\n",
    "    courseSet = createCourses(line)\n",
    "    incrementLine()\n",
    "    #print(\"hello\")\n",
    "    setDict = OrderedDict()\n",
    "    setDict[\"name\"] = setName \n",
    "    setDict[\"courses\"] = courseSet\n",
    "    return setDict"
   ]
  },
  {
   "cell_type": "code",
   "execution_count": 55,
   "metadata": {},
   "outputs": [],
   "source": [
    "'''\n",
    "Function to ensure the correct action is taken for each line\n",
    "    EX: if the line indicates a beginning of a set, this \n",
    "    function ensures the process for creating a set is taken\n",
    "\n",
    "Args:\n",
    "    line (str): the contents of the current cell being processed from \n",
    "    course_data\n",
    "'''\n",
    "def checkType(line):\n",
    "    global allSets\n",
    "    global allPosition\n",
    "    global rowPosition\n",
    "    global isEnd\n",
    "    global totCol\n",
    "    whiteSpaceCounter = 0\n",
    "    #initalize empty set for rules\n",
    "    rulesList = []\n",
    "    #creating a key from the first word of the line\n",
    "    key = line.split(' ', 1)[0]\n",
    "    #taking actions depending on what the key is\n",
    "    if key == 'SET':\n",
    "        tempSet = createSets(line)\n",
    "        allSets.append(tempSet)\n",
    "    if key == 'RULES':\n",
    "        incrementLine()\n",
    "        line = dedman_data[colPosition][rowPosition]\n",
    "        rulesList = createRules(line, rulesList)\n",
    "    if(key == 0):\n",
    "        whiteSpaceCounter = whiteSpaceCounter + 1\n",
    "        incrementLine()\n",
    "        if(whiteSpaceCounter == 2):\n",
    "            createDict(allSets, rulesList)\n",
    "            allSets = []\n",
    "            incrementCol()\n",
    "            if(colPosition != totCol):\n",
    "                line = dedman_data[colPosition][rowPosition]\n",
    "                createName(line)\n",
    "            else:\n",
    "                isEnd == True\n",
    "    #create dictionary object when all lines are parsed\n",
    "    else:\n",
    "        print ('error in file structure! No Rules or Sets found')"
   ]
  },
  {
   "cell_type": "code",
   "execution_count": 26,
   "metadata": {},
   "outputs": [],
   "source": [
    "def incrementCol():\n",
    "    global colPosition\n",
    "    colPosition = colPosition + 1"
   ]
  },
  {
   "cell_type": "code",
   "execution_count": 27,
   "metadata": {},
   "outputs": [],
   "source": [
    "'''\n",
    "Function to increment the line being parsed\n",
    "'''\n",
    "def incrementLine():\n",
    "    global rowPosition\n",
    "    rowPosition = rowPosition + 1"
   ]
  },
  {
   "cell_type": "code",
   "execution_count": 58,
   "metadata": {},
   "outputs": [],
   "source": [
    "'''\n",
    "Function to create name and type objects for each degree\n",
    "\n",
    "Args:\n",
    "    line (str): the contents of the current cell being processed from \n",
    "    course_data\n",
    "'''\n",
    "def createName(line):\n",
    "    global isEnd\n",
    "    #empty lists\n",
    "    degree = []\n",
    "    degreeType = []\n",
    "    print(line)\n",
    "    \n",
    "    #appending to lists\n",
    "    degree.append(line.split(',', 1)[0])\n",
    "    degreeType.append(line.split(', ', 1)[1])\n",
    "    #assigning to courseDict\n",
    "    courseDict[\"name\"] = degree\n",
    "    courseDict[\"type\"] = degreeType\n",
    "    incrementLine()\n",
    "    #pass to checkType as long as processing is still happening\n",
    "    while(isEnd == False):\n",
    "    #print(dedman_data[colPosition][rowPosition])\n",
    "        checkType(dedman_data[colPosition][rowPosition])\n",
    "    "
   ]
  },
  {
   "cell_type": "code",
   "execution_count": 29,
   "metadata": {},
   "outputs": [],
   "source": [
    "def createAllPlans():\n",
    "    line = dedman_data[0][0]\n",
    "    createName(line)"
   ]
  },
  {
   "cell_type": "code",
   "execution_count": 40,
   "metadata": {},
   "outputs": [],
   "source": [
    "def main():\n",
    "    createAllPlans(course_data[0][0])"
   ]
  },
  {
   "cell_type": "code",
   "execution_count": 60,
   "metadata": {},
   "outputs": [
    {
     "name": "stdout",
     "output_type": "stream",
     "text": [
      "Anthropology, B.A.\n",
      "error in file structure! No Rules or Sets found\n",
      "error in file structure! No Rules or Sets found\n",
      "error in file structure! No Rules or Sets found\n",
      "error in file structure! No Rules or Sets found\n",
      "error in file structure! No Rules or Sets found\n",
      "error in file structure! No Rules or Sets found\n",
      "error in file structure! No Rules or Sets found\n"
     ]
    },
    {
     "ename": "AttributeError",
     "evalue": "'float' object has no attribute 'split'",
     "output_type": "error",
     "traceback": [
      "\u001b[1;31m---------------------------------------------------------------------------\u001b[0m",
      "\u001b[1;31mAttributeError\u001b[0m                            Traceback (most recent call last)",
      "\u001b[1;32m<ipython-input-60-263240bbee7e>\u001b[0m in \u001b[0;36m<module>\u001b[1;34m()\u001b[0m\n\u001b[1;32m----> 1\u001b[1;33m \u001b[0mmain\u001b[0m\u001b[1;33m(\u001b[0m\u001b[1;33m)\u001b[0m\u001b[1;33m\u001b[0m\u001b[0m\n\u001b[0m",
      "\u001b[1;32m<ipython-input-40-747fb5d907f8>\u001b[0m in \u001b[0;36mmain\u001b[1;34m()\u001b[0m\n\u001b[0;32m      1\u001b[0m \u001b[1;32mdef\u001b[0m \u001b[0mmain\u001b[0m\u001b[1;33m(\u001b[0m\u001b[1;33m)\u001b[0m\u001b[1;33m:\u001b[0m\u001b[1;33m\u001b[0m\u001b[0m\n\u001b[1;32m----> 2\u001b[1;33m     \u001b[0mcreateAllPlans\u001b[0m\u001b[1;33m(\u001b[0m\u001b[1;33m)\u001b[0m\u001b[1;33m\u001b[0m\u001b[0m\n\u001b[0m",
      "\u001b[1;32m<ipython-input-29-ea76f55aaf48>\u001b[0m in \u001b[0;36mcreateAllPlans\u001b[1;34m()\u001b[0m\n\u001b[0;32m      1\u001b[0m \u001b[1;32mdef\u001b[0m \u001b[0mcreateAllPlans\u001b[0m\u001b[1;33m(\u001b[0m\u001b[1;33m)\u001b[0m\u001b[1;33m:\u001b[0m\u001b[1;33m\u001b[0m\u001b[0m\n\u001b[0;32m      2\u001b[0m     \u001b[0mline\u001b[0m \u001b[1;33m=\u001b[0m \u001b[0mdedman_data\u001b[0m\u001b[1;33m[\u001b[0m\u001b[1;36m0\u001b[0m\u001b[1;33m]\u001b[0m\u001b[1;33m[\u001b[0m\u001b[1;36m0\u001b[0m\u001b[1;33m]\u001b[0m\u001b[1;33m\u001b[0m\u001b[0m\n\u001b[1;32m----> 3\u001b[1;33m     \u001b[0mcreateName\u001b[0m\u001b[1;33m(\u001b[0m\u001b[0mline\u001b[0m\u001b[1;33m)\u001b[0m\u001b[1;33m\u001b[0m\u001b[0m\n\u001b[0m",
      "\u001b[1;32m<ipython-input-58-3f3ab6e15847>\u001b[0m in \u001b[0;36mcreateName\u001b[1;34m(line)\u001b[0m\n\u001b[0;32m     23\u001b[0m     \u001b[1;32mwhile\u001b[0m\u001b[1;33m(\u001b[0m\u001b[0misEnd\u001b[0m \u001b[1;33m==\u001b[0m \u001b[1;32mFalse\u001b[0m\u001b[1;33m)\u001b[0m\u001b[1;33m:\u001b[0m\u001b[1;33m\u001b[0m\u001b[0m\n\u001b[0;32m     24\u001b[0m     \u001b[1;31m#print(dedman_data[colPosition][rowPosition])\u001b[0m\u001b[1;33m\u001b[0m\u001b[1;33m\u001b[0m\u001b[0m\n\u001b[1;32m---> 25\u001b[1;33m         \u001b[0mcheckType\u001b[0m\u001b[1;33m(\u001b[0m\u001b[0mdedman_data\u001b[0m\u001b[1;33m[\u001b[0m\u001b[0mcolPosition\u001b[0m\u001b[1;33m]\u001b[0m\u001b[1;33m[\u001b[0m\u001b[0mrowPosition\u001b[0m\u001b[1;33m]\u001b[0m\u001b[1;33m)\u001b[0m\u001b[1;33m\u001b[0m\u001b[0m\n\u001b[0m\u001b[0;32m     26\u001b[0m \u001b[1;33m\u001b[0m\u001b[0m\n",
      "\u001b[1;32m<ipython-input-55-6aee36ba1ab5>\u001b[0m in \u001b[0;36mcheckType\u001b[1;34m(line)\u001b[0m\n\u001b[0;32m     18\u001b[0m     \u001b[0mrulesList\u001b[0m \u001b[1;33m=\u001b[0m \u001b[1;33m[\u001b[0m\u001b[1;33m]\u001b[0m\u001b[1;33m\u001b[0m\u001b[0m\n\u001b[0;32m     19\u001b[0m     \u001b[1;31m#creating a key from the first word of the line\u001b[0m\u001b[1;33m\u001b[0m\u001b[1;33m\u001b[0m\u001b[0m\n\u001b[1;32m---> 20\u001b[1;33m     \u001b[0mkey\u001b[0m \u001b[1;33m=\u001b[0m \u001b[0mline\u001b[0m\u001b[1;33m.\u001b[0m\u001b[0msplit\u001b[0m\u001b[1;33m(\u001b[0m\u001b[1;34m' '\u001b[0m\u001b[1;33m,\u001b[0m \u001b[1;36m1\u001b[0m\u001b[1;33m)\u001b[0m\u001b[1;33m[\u001b[0m\u001b[1;36m0\u001b[0m\u001b[1;33m]\u001b[0m\u001b[1;33m\u001b[0m\u001b[0m\n\u001b[0m\u001b[0;32m     21\u001b[0m     \u001b[1;31m#taking actions depending on what the key is\u001b[0m\u001b[1;33m\u001b[0m\u001b[1;33m\u001b[0m\u001b[0m\n\u001b[0;32m     22\u001b[0m     \u001b[1;32mif\u001b[0m \u001b[0mkey\u001b[0m \u001b[1;33m==\u001b[0m \u001b[1;34m'SET'\u001b[0m\u001b[1;33m:\u001b[0m\u001b[1;33m\u001b[0m\u001b[0m\n",
      "\u001b[1;31mAttributeError\u001b[0m: 'float' object has no attribute 'split'"
     ]
    }
   ],
   "source": [
    "main()"
   ]
  },
  {
   "cell_type": "code",
   "execution_count": 12,
   "metadata": {},
   "outputs": [],
   "source": [
    "line = \"      \"\n",
    "key = line.split(' ', 1)[0]\n",
    "if(key == \"\"):\n",
    "    print(\"hi\")"
   ]
  }
 ],
 "metadata": {
  "kernelspec": {
   "display_name": "Python 3",
   "language": "python",
   "name": "python3"
  },
  "language_info": {
   "codemirror_mode": {
    "name": "ipython",
    "version": 3
   },
   "file_extension": ".py",
   "mimetype": "text/x-python",
   "name": "python",
   "nbconvert_exporter": "python",
   "pygments_lexer": "ipython3",
   "version": "3.7.0"
  }
 },
 "nbformat": 4,
 "nbformat_minor": 2
}
