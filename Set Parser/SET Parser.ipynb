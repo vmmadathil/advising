{
 "cells": [
  {
   "cell_type": "code",
   "execution_count": 52,
   "metadata": {},
   "outputs": [],
   "source": [
    "#Need to build special_req functionality"
   ]
  },
  {
   "cell_type": "code",
   "execution_count": 1,
   "metadata": {},
   "outputs": [],
   "source": [
    "#import statements\n",
    "import json\n",
    "import pandas as pd"
   ]
  },
  {
   "cell_type": "code",
   "execution_count": 2,
   "metadata": {},
   "outputs": [
    {
     "data": {
      "text/html": [
       "<div>\n",
       "<style scoped>\n",
       "    .dataframe tbody tr th:only-of-type {\n",
       "        vertical-align: middle;\n",
       "    }\n",
       "\n",
       "    .dataframe tbody tr th {\n",
       "        vertical-align: top;\n",
       "    }\n",
       "\n",
       "    .dataframe thead th {\n",
       "        text-align: right;\n",
       "    }\n",
       "</style>\n",
       "<table border=\"1\" class=\"dataframe\">\n",
       "  <thead>\n",
       "    <tr style=\"text-align: right;\">\n",
       "      <th></th>\n",
       "      <th>0</th>\n",
       "    </tr>\n",
       "  </thead>\n",
       "  <tbody>\n",
       "    <tr>\n",
       "      <th>0</th>\n",
       "      <td>Anthropology, B.A.</td>\n",
       "    </tr>\n",
       "    <tr>\n",
       "      <th>1</th>\n",
       "      <td>SET 1 START</td>\n",
       "    </tr>\n",
       "    <tr>\n",
       "      <th>2</th>\n",
       "      <td>ANTH 2301 - Introductory Cultural Anthropology</td>\n",
       "    </tr>\n",
       "    <tr>\n",
       "      <th>3</th>\n",
       "      <td>ANTH 2415 - Human Evolution: Biological and So...</td>\n",
       "    </tr>\n",
       "    <tr>\n",
       "      <th>4</th>\n",
       "      <td>ANTH 2463 - The Science of Our Past: An Introd...</td>\n",
       "    </tr>\n",
       "  </tbody>\n",
       "</table>\n",
       "</div>"
      ],
      "text/plain": [
       "                                                   0\n",
       "0                                 Anthropology, B.A.\n",
       "1                                        SET 1 START\n",
       "2     ANTH 2301 - Introductory Cultural Anthropology\n",
       "3  ANTH 2415 - Human Evolution: Biological and So...\n",
       "4  ANTH 2463 - The Science of Our Past: An Introd..."
      ]
     },
     "execution_count": 2,
     "metadata": {},
     "output_type": "execute_result"
    }
   ],
   "source": [
    "#read Excel file\n",
    "course_data = pd.read_excel(\"Example .xlsx\", header = None)\n",
    "course_data.head()"
   ]
  },
  {
   "cell_type": "code",
   "execution_count": 3,
   "metadata": {},
   "outputs": [],
   "source": [
    "'''\n",
    "global variables\n",
    "this will do for now, but I should write better code moving forward \n",
    "and minimize the number of these\n",
    "\n",
    "courseDict (dict): a dictionary object to represent the information being\n",
    "parsed\n",
    "allSets (list)\n",
    "position (int)\n",
    "tot (int)\n",
    "'''\n",
    "courseDict = {\"name\": [], \"type\": [], \"rules\": None, \"sets\": [], \"special_req\": \" \"}\n",
    "allSets = []\n",
    "position = 0\n",
    "tot = len(course_data.index)"
   ]
  },
  {
   "cell_type": "code",
   "execution_count": 4,
   "metadata": {},
   "outputs": [],
   "source": [
    "'''\n",
    "Function to append the sets and rules to the Course Dictionary\n",
    "\n",
    "Args:\n",
    "    sets (list): a list of all the sets their respective courses\n",
    "    rules (list): a list of all the rules of the degree\n",
    "'''\n",
    "def createDict(sets, rules):\n",
    "    global courseDict\n",
    "    #adding rules and sets to the Course Dictionary\n",
    "    courseDict[\"rules\"] = rules\n",
    "    courseDict[\"sets\"] = sets\n",
    "    #writing to json file\n",
    "    with open('courseDict.json', 'w') as fp:\n",
    "        json.dump(courseDict, fp)"
   ]
  },
  {
   "cell_type": "code",
   "execution_count": 5,
   "metadata": {},
   "outputs": [],
   "source": [
    "'''\n",
    "Function to create a list of rules for the degree\n",
    "\n",
    "Args:\n",
    "    line (str): the contents of the current cell being processed from \n",
    "    course_data\n",
    "    rulesList (list): an empty list to store the rules in after being \n",
    "    parsed\n",
    "'''\n",
    "def createRules(line, rulesList):\n",
    "    #calling global variables for position and total number of entries\n",
    "    global position\n",
    "    global tot\n",
    "    #the loop should execute until all the lines are being read\n",
    "    while(position < tot):\n",
    "        #append rule to the rulesList\n",
    "        rulesList.append(line)\n",
    "        #increment to next line\n",
    "        incrementLine()\n",
    "        #reassign line if still parsing\n",
    "        if (position < tot):\n",
    "            line = course_data[0][position]\n",
    "    return rulesList"
   ]
  },
  {
   "cell_type": "code",
   "execution_count": 6,
   "metadata": {},
   "outputs": [],
   "source": [
    "'''\n",
    "Function to create lists of courses\n",
    "\n",
    "Args:\n",
    "    line (str): the contents of the current cell being processed from \n",
    "    course_data\n",
    "'''\n",
    "def createCourses(line):\n",
    "    #initalize empty list \n",
    "    courseList = []\n",
    "    '''\n",
    "    creating key from the first word of the line. This key will be used \n",
    "    to know when to stop storing the contents into the courseList\n",
    "    '''\n",
    "    key = line.split(' ', 1)[0]\n",
    "    #loop should execute until the word \"SET\" is found in the line\n",
    "    while (key != 'SET'):\n",
    "        #add line to the courseList \n",
    "        courseList.append(line)\n",
    "        #increent to next line\n",
    "        incrementLine()\n",
    "        #reassign variables \n",
    "        line = course_data[0][position]\n",
    "        key = line.split(' ', 1)[0]\n",
    "    return (courseList)"
   ]
  },
  {
   "cell_type": "code",
   "execution_count": 7,
   "metadata": {},
   "outputs": [],
   "source": [
    "'''\n",
    "Function to create set objects for the course dictionary\n",
    "\n",
    "Args:\n",
    "    line (str): the contents of the current cell being processed from \n",
    "    course_data\n",
    "'''\n",
    "def createSets(line):\n",
    "    global position\n",
    "    #parsing and assigning the name of the set\n",
    "    setName = \"SET \" + line.split()[1]\n",
    "    incrementLine()\n",
    "    line = course_data[0][position]\n",
    "    #calling createCourses function to parse Courses for the set\n",
    "    courseSet = createCourses(line)\n",
    "    incrementLine()\n",
    "    setDict = {\"name\" : setName, \"courses\": courseSet}\n",
    "    return setDict"
   ]
  },
  {
   "cell_type": "code",
   "execution_count": 8,
   "metadata": {},
   "outputs": [],
   "source": [
    "'''\n",
    "Function to ensure the correct action is taken for each line\n",
    "    EX: if the line indicates a beginning of a set, this \n",
    "    function ensures the process for creating a set is taken\n",
    "\n",
    "Args:\n",
    "    line (str): the contents of the current cell being processed from \n",
    "    course_data\n",
    "'''\n",
    "def checkType(line):\n",
    "    global allSets\n",
    "    global position\n",
    "    global tot\n",
    "    #initalize empty set for rules\n",
    "    rulesList = []\n",
    "    #creating a key from the first word of the line\n",
    "    key = line.split(' ', 1)[0]\n",
    "    #taking actions depending on what the key is\n",
    "    if key == 'SET':\n",
    "        tempSet = createSets(line)\n",
    "        allSets.append(tempSet)\n",
    "    if key == 'RULES':\n",
    "        incrementLine()\n",
    "        line = course_data[0][position]\n",
    "        rulesList = createRules(line, rulesList)\n",
    "    #create dictionary object when all lines are parsed\n",
    "    if tot == position:\n",
    "        createDict(allSets, rulesList)"
   ]
  },
  {
   "cell_type": "code",
   "execution_count": 9,
   "metadata": {},
   "outputs": [],
   "source": [
    "'''\n",
    "Function to increment the line being parsed\n",
    "'''\n",
    "def incrementLine():\n",
    "    global position\n",
    "    position = position + 1"
   ]
  },
  {
   "cell_type": "code",
   "execution_count": 10,
   "metadata": {},
   "outputs": [],
   "source": [
    "'''\n",
    "Function to create name and type objects for each degree\n",
    "\n",
    "Args:\n",
    "    line (str): the contents of the current cell being processed from \n",
    "    course_data\n",
    "'''\n",
    "def createName(line):\n",
    "    global position\n",
    "    global tot\n",
    "    #empty lists\n",
    "    degree = []\n",
    "    degreeType = []\n",
    "    #appending to lists\n",
    "    degree.append(line.split(',', 1)[0])\n",
    "    degreeType.append(line.split(', ', 1)[1])\n",
    "    #assigning to courseDict\n",
    "    courseDict[\"name\"] = degree\n",
    "    courseDict[\"type\"] = degreeType\n",
    "    incrementLine()\n",
    "    #pass to checkType as long as processing is still happening\n",
    "    while(position < tot):\n",
    "        checkType(course_data[0][position])"
   ]
  },
  {
   "cell_type": "code",
   "execution_count": 11,
   "metadata": {},
   "outputs": [],
   "source": [
    "def main():\n",
    "    createName(course_data[0][0])"
   ]
  },
  {
   "cell_type": "code",
   "execution_count": 12,
   "metadata": {},
   "outputs": [
    {
     "name": "stdout",
     "output_type": "stream",
     "text": [
      "[{'name': 'SET 1', 'courses': ['ANTH 2301 - Introductory Cultural Anthropology', 'ANTH 2415 - Human Evolution: Biological and Social Beginnings of Humankind', 'ANTH 2463 - The Science of Our Past: An Introduction to Archaeology', 'ANTH 4399 - Integrated Themes in Anthropology']}]\n",
      "[{'name': 'SET 1', 'courses': ['ANTH 2301 - Introductory Cultural Anthropology', 'ANTH 2415 - Human Evolution: Biological and Social Beginnings of Humankind', 'ANTH 2463 - The Science of Our Past: An Introduction to Archaeology', 'ANTH 4399 - Integrated Themes in Anthropology']}, {'name': 'SET 2', 'courses': ['ANTH 3304 - North American Archaeology', 'ANTH 3312 - Mesoamerican Archaeology', 'ANTH 3313 - South American Indians of the Past and Present', 'ANTH 3314 - Peoples of Africa', 'ANTH 3318 - Life in the Ancient Southwest', 'ANTH 3321 - Ancient Hawaii', 'ANTH 3323 - East Asia in Motion', 'ANTH 3346 - Culture and Diversity in American Life', 'ANTH 3353 - Indians of North America', 'ANTH 3354 - Latin America: Peoples, Places, and Power', 'ANTH 3355 - Society and Culture in Contemporary Europe', 'ANTH 3358 - Indians of the Southwest From the 16th Century to the Present', 'ANTH 3359 - Peoples and Cultures of the Middle East', 'ANTH 3374 - Cultures and Environments of the Southwest', 'ANTH 3399 - In Search of Ice Age Americans', 'ANTH 4385 - Pacific Island Archaeology']}]\n",
      "[{'name': 'SET 1', 'courses': ['ANTH 2301 - Introductory Cultural Anthropology', 'ANTH 2415 - Human Evolution: Biological and Social Beginnings of Humankind', 'ANTH 2463 - The Science of Our Past: An Introduction to Archaeology', 'ANTH 4399 - Integrated Themes in Anthropology']}, {'name': 'SET 2', 'courses': ['ANTH 3304 - North American Archaeology', 'ANTH 3312 - Mesoamerican Archaeology', 'ANTH 3313 - South American Indians of the Past and Present', 'ANTH 3314 - Peoples of Africa', 'ANTH 3318 - Life in the Ancient Southwest', 'ANTH 3321 - Ancient Hawaii', 'ANTH 3323 - East Asia in Motion', 'ANTH 3346 - Culture and Diversity in American Life', 'ANTH 3353 - Indians of North America', 'ANTH 3354 - Latin America: Peoples, Places, and Power', 'ANTH 3355 - Society and Culture in Contemporary Europe', 'ANTH 3358 - Indians of the Southwest From the 16th Century to the Present', 'ANTH 3359 - Peoples and Cultures of the Middle East', 'ANTH 3374 - Cultures and Environments of the Southwest', 'ANTH 3399 - In Search of Ice Age Americans', 'ANTH 4385 - Pacific Island Archaeology']}, {'name': 'SET 3', 'courses': ['ANTH 5681 - Field Methods in Archaeology']}]\n",
      "[{'name': 'SET 1', 'courses': ['ANTH 2301 - Introductory Cultural Anthropology', 'ANTH 2415 - Human Evolution: Biological and Social Beginnings of Humankind', 'ANTH 2463 - The Science of Our Past: An Introduction to Archaeology', 'ANTH 4399 - Integrated Themes in Anthropology']}, {'name': 'SET 2', 'courses': ['ANTH 3304 - North American Archaeology', 'ANTH 3312 - Mesoamerican Archaeology', 'ANTH 3313 - South American Indians of the Past and Present', 'ANTH 3314 - Peoples of Africa', 'ANTH 3318 - Life in the Ancient Southwest', 'ANTH 3321 - Ancient Hawaii', 'ANTH 3323 - East Asia in Motion', 'ANTH 3346 - Culture and Diversity in American Life', 'ANTH 3353 - Indians of North America', 'ANTH 3354 - Latin America: Peoples, Places, and Power', 'ANTH 3355 - Society and Culture in Contemporary Europe', 'ANTH 3358 - Indians of the Southwest From the 16th Century to the Present', 'ANTH 3359 - Peoples and Cultures of the Middle East', 'ANTH 3374 - Cultures and Environments of the Southwest', 'ANTH 3399 - In Search of Ice Age Americans', 'ANTH 4385 - Pacific Island Archaeology']}, {'name': 'SET 3', 'courses': ['ANTH 5681 - Field Methods in Archaeology']}, {'name': 'SET 4', 'courses': ['ANTH 3345 - Introduction to Ethnographic Methods', 'ANTH 4333 - Laboratory Methods in Archaeology', 'ANTH 5344 - Research Methods in Ethnology', 'ANTH 5381 - Field Methods in Archaeology', 'SOCI 3311 - Social Science Research Methods']}]\n",
      "[{'name': 'SET 1', 'courses': ['ANTH 2301 - Introductory Cultural Anthropology', 'ANTH 2415 - Human Evolution: Biological and Social Beginnings of Humankind', 'ANTH 2463 - The Science of Our Past: An Introduction to Archaeology', 'ANTH 4399 - Integrated Themes in Anthropology']}, {'name': 'SET 2', 'courses': ['ANTH 3304 - North American Archaeology', 'ANTH 3312 - Mesoamerican Archaeology', 'ANTH 3313 - South American Indians of the Past and Present', 'ANTH 3314 - Peoples of Africa', 'ANTH 3318 - Life in the Ancient Southwest', 'ANTH 3321 - Ancient Hawaii', 'ANTH 3323 - East Asia in Motion', 'ANTH 3346 - Culture and Diversity in American Life', 'ANTH 3353 - Indians of North America', 'ANTH 3354 - Latin America: Peoples, Places, and Power', 'ANTH 3355 - Society and Culture in Contemporary Europe', 'ANTH 3358 - Indians of the Southwest From the 16th Century to the Present', 'ANTH 3359 - Peoples and Cultures of the Middle East', 'ANTH 3374 - Cultures and Environments of the Southwest', 'ANTH 3399 - In Search of Ice Age Americans', 'ANTH 4385 - Pacific Island Archaeology']}, {'name': 'SET 3', 'courses': ['ANTH 5681 - Field Methods in Archaeology']}, {'name': 'SET 4', 'courses': ['ANTH 3345 - Introduction to Ethnographic Methods', 'ANTH 4333 - Laboratory Methods in Archaeology', 'ANTH 5344 - Research Methods in Ethnology', 'ANTH 5381 - Field Methods in Archaeology', 'SOCI 3311 - Social Science Research Methods']}, {'name': 'SET 5', 'courses': ['ANTH 3334 - Fantastic Archaeology and Pseudoscience: Lost Tribes, Sunken Continents, and Ancient Astronauts', 'ANTH 3351 - Forensic Anthropology: Lessons Taught by Bones', 'ANTH 3373 - Living with Fire: Past, Present, Future', 'ANTH 3385 - Sustainable Living', 'ANTH 4325 - Introduction to Osteology I: Human-Animal Interactions', 'ANTH 4383 - Geoarchaeology', 'ANTH 4391 - Independent Study and Research\\xa0(data analysis topic)', 'ANTH 5310 - Human Osteology: Biology of the Human Skeleton', 'ANTH 5382 - Field Methods in Archaeology', 'SOCI 3312 - Database Methods and Analysis']}]\n",
      "[{'name': 'SET 1', 'courses': ['ANTH 2301 - Introductory Cultural Anthropology', 'ANTH 2415 - Human Evolution: Biological and Social Beginnings of Humankind', 'ANTH 2463 - The Science of Our Past: An Introduction to Archaeology', 'ANTH 4399 - Integrated Themes in Anthropology']}, {'name': 'SET 2', 'courses': ['ANTH 3304 - North American Archaeology', 'ANTH 3312 - Mesoamerican Archaeology', 'ANTH 3313 - South American Indians of the Past and Present', 'ANTH 3314 - Peoples of Africa', 'ANTH 3318 - Life in the Ancient Southwest', 'ANTH 3321 - Ancient Hawaii', 'ANTH 3323 - East Asia in Motion', 'ANTH 3346 - Culture and Diversity in American Life', 'ANTH 3353 - Indians of North America', 'ANTH 3354 - Latin America: Peoples, Places, and Power', 'ANTH 3355 - Society and Culture in Contemporary Europe', 'ANTH 3358 - Indians of the Southwest From the 16th Century to the Present', 'ANTH 3359 - Peoples and Cultures of the Middle East', 'ANTH 3374 - Cultures and Environments of the Southwest', 'ANTH 3399 - In Search of Ice Age Americans', 'ANTH 4385 - Pacific Island Archaeology']}, {'name': 'SET 3', 'courses': ['ANTH 5681 - Field Methods in Archaeology']}, {'name': 'SET 4', 'courses': ['ANTH 3345 - Introduction to Ethnographic Methods', 'ANTH 4333 - Laboratory Methods in Archaeology', 'ANTH 5344 - Research Methods in Ethnology', 'ANTH 5381 - Field Methods in Archaeology', 'SOCI 3311 - Social Science Research Methods']}, {'name': 'SET 5', 'courses': ['ANTH 3334 - Fantastic Archaeology and Pseudoscience: Lost Tribes, Sunken Continents, and Ancient Astronauts', 'ANTH 3351 - Forensic Anthropology: Lessons Taught by Bones', 'ANTH 3373 - Living with Fire: Past, Present, Future', 'ANTH 3385 - Sustainable Living', 'ANTH 4325 - Introduction to Osteology I: Human-Animal Interactions', 'ANTH 4383 - Geoarchaeology', 'ANTH 4391 - Independent Study and Research\\xa0(data analysis topic)', 'ANTH 5310 - Human Osteology: Biology of the Human Skeleton', 'ANTH 5382 - Field Methods in Archaeology', 'SOCI 3312 - Database Methods and Analysis']}, {'name': 'SET 6', 'courses': ['ANTH 1321 - Anthropology: A Four-Field Approach', 'ANTH 2130 - Special Topics Abroad', 'ANTH 2230 - Special Topics Abroad', 'ANTH 2301 - Introductory Cultural Anthropology', 'ANTH 2302 - People of the Earth: The First Five Million Years', 'ANTH 2330 - Special Topics Abroad', 'ANTH 2370 - Global Processes and Problems: An Introduction', 'ANTH 2380 - Cultures at Risk: Human Rights and Heritage Today', 'ANTH 2381 - PaleoParents: The Evolution of Human Families', 'ANTH 2382 - Human Nature: Who are we? And how did we get this way?', 'ANTH 2415 - Human Evolution: Biological and Social Beginnings of Humankind', 'ANTH 2463 - The Science of Our Past: An Introduction to Archaeology', 'ANTH 3130 - Special Topics Abroad', 'ANTH 3230 - Special Topics Abroad', 'ANTH 3301 - Health, Healing, and Ethics: Cross-Cultural Perspectives on Sickness and Society', 'ANTH 3302 - Monkeys and Apes: The Nonhuman Primates', 'ANTH 3303 - Self, Culture, and Mind: Introduction to Psychological Anthropology', 'ANTH 3304 - North American Archaeology', 'ANTH 3306 - Introduction to Medical Anthropology', 'ANTH 3307 - Introduction to Biological Anthropology', 'ANTH 3308 - Evolutionary Approaches to Health and Disease', 'ANTH 3310 - Gender, Sex, and Sexuality: Global Perspectives', 'ANTH 3312 - Mesoamerican Archaeology', 'ANTH 3313 - South American Indians of the Past and Present', 'ANTH 3314 - Peoples of Africa', 'ANTH 3315 - Origins of Civilization', 'ANTH 3318 - Life in the Ancient Southwest', 'ANTH 3319 - Humanity and Global Environmental Change', 'ANTH 3321 - Ancient Hawaii', 'ANTH 3323 - East Asia in Motion', 'ANTH 3328 - Gender Violence: Anthropological Perspectives', 'ANTH 3329 - Contesting Development: Global and Local Impacts and Human Rights', 'ANTH 3330 - Special Topics in Anthropology', 'ANTH 3331 - Special Topics in Anthropology', 'ANTH 3333 - The Immigrant Experience', 'ANTH 3334 - Fantastic Archaeology and Pseudoscience: Lost Tribes, Sunken Continents, and Ancient Astronauts', 'ANTH 3336 - Gender and Globalization: Cultural and Ethical Issues', 'ANTH 3340 - Special Topics Abroad', 'ANTH 3345 - Introduction to Ethnographic Methods', 'ANTH 3346 - Culture and Diversity in American Life', 'ANTH 3348 - Health as a Human Right', 'ANTH 3350 - Good Eats and Forbidden Flesh: Culture, Food, and the Global Grocery Market', 'ANTH 3351 - Forensic Anthropology: Lessons Taught by Bones', 'ANTH 3353 - Indians of North America', 'ANTH 3354 - Latin America: Peoples, Places, and Power', 'ANTH 3355 - Society and Culture in Contemporary Europe', 'ANTH 3358 - Indians of the Southwest From the 16th Century to the Present', 'ANTH 3359 - Peoples and Cultures of the Middle East', 'ANTH 3361 - Language in Culture and Society', 'ANTH 3366 - Magic, Myth, and Religion Across Cultures', 'ANTH 3368 - Global Urbanism: Implosions/Explosions', 'ANTH 3370 - Fire on Earth: An Introduction to Pyrogeography', 'ANTH 3373 - Living with Fire: Past, Present, Future', 'ANTH 3374 - Cultures and Environments of the Southwest', 'ANTH 3384 - Paradise Lost? Long-Term Perspectives on Human Impacts on the Environment', 'ANTH 3385 - Sustainable Living', 'ANTH 3388 - Warfare and Violence: The Anthropology and Ethics of Human Conflict', 'ANTH 3390 - The Plundered Past: Archaeology’s Challenges in the Modern World', 'ANTH 3399 - In Search of Ice Age Americans']}]\n",
      "[{'name': 'SET 1', 'courses': ['ANTH 2301 - Introductory Cultural Anthropology', 'ANTH 2415 - Human Evolution: Biological and Social Beginnings of Humankind', 'ANTH 2463 - The Science of Our Past: An Introduction to Archaeology', 'ANTH 4399 - Integrated Themes in Anthropology']}, {'name': 'SET 2', 'courses': ['ANTH 3304 - North American Archaeology', 'ANTH 3312 - Mesoamerican Archaeology', 'ANTH 3313 - South American Indians of the Past and Present', 'ANTH 3314 - Peoples of Africa', 'ANTH 3318 - Life in the Ancient Southwest', 'ANTH 3321 - Ancient Hawaii', 'ANTH 3323 - East Asia in Motion', 'ANTH 3346 - Culture and Diversity in American Life', 'ANTH 3353 - Indians of North America', 'ANTH 3354 - Latin America: Peoples, Places, and Power', 'ANTH 3355 - Society and Culture in Contemporary Europe', 'ANTH 3358 - Indians of the Southwest From the 16th Century to the Present', 'ANTH 3359 - Peoples and Cultures of the Middle East', 'ANTH 3374 - Cultures and Environments of the Southwest', 'ANTH 3399 - In Search of Ice Age Americans', 'ANTH 4385 - Pacific Island Archaeology']}, {'name': 'SET 3', 'courses': ['ANTH 5681 - Field Methods in Archaeology']}, {'name': 'SET 4', 'courses': ['ANTH 3345 - Introduction to Ethnographic Methods', 'ANTH 4333 - Laboratory Methods in Archaeology', 'ANTH 5344 - Research Methods in Ethnology', 'ANTH 5381 - Field Methods in Archaeology', 'SOCI 3311 - Social Science Research Methods']}, {'name': 'SET 5', 'courses': ['ANTH 3334 - Fantastic Archaeology and Pseudoscience: Lost Tribes, Sunken Continents, and Ancient Astronauts', 'ANTH 3351 - Forensic Anthropology: Lessons Taught by Bones', 'ANTH 3373 - Living with Fire: Past, Present, Future', 'ANTH 3385 - Sustainable Living', 'ANTH 4325 - Introduction to Osteology I: Human-Animal Interactions', 'ANTH 4383 - Geoarchaeology', 'ANTH 4391 - Independent Study and Research\\xa0(data analysis topic)', 'ANTH 5310 - Human Osteology: Biology of the Human Skeleton', 'ANTH 5382 - Field Methods in Archaeology', 'SOCI 3312 - Database Methods and Analysis']}, {'name': 'SET 6', 'courses': ['ANTH 1321 - Anthropology: A Four-Field Approach', 'ANTH 2130 - Special Topics Abroad', 'ANTH 2230 - Special Topics Abroad', 'ANTH 2301 - Introductory Cultural Anthropology', 'ANTH 2302 - People of the Earth: The First Five Million Years', 'ANTH 2330 - Special Topics Abroad', 'ANTH 2370 - Global Processes and Problems: An Introduction', 'ANTH 2380 - Cultures at Risk: Human Rights and Heritage Today', 'ANTH 2381 - PaleoParents: The Evolution of Human Families', 'ANTH 2382 - Human Nature: Who are we? And how did we get this way?', 'ANTH 2415 - Human Evolution: Biological and Social Beginnings of Humankind', 'ANTH 2463 - The Science of Our Past: An Introduction to Archaeology', 'ANTH 3130 - Special Topics Abroad', 'ANTH 3230 - Special Topics Abroad', 'ANTH 3301 - Health, Healing, and Ethics: Cross-Cultural Perspectives on Sickness and Society', 'ANTH 3302 - Monkeys and Apes: The Nonhuman Primates', 'ANTH 3303 - Self, Culture, and Mind: Introduction to Psychological Anthropology', 'ANTH 3304 - North American Archaeology', 'ANTH 3306 - Introduction to Medical Anthropology', 'ANTH 3307 - Introduction to Biological Anthropology', 'ANTH 3308 - Evolutionary Approaches to Health and Disease', 'ANTH 3310 - Gender, Sex, and Sexuality: Global Perspectives', 'ANTH 3312 - Mesoamerican Archaeology', 'ANTH 3313 - South American Indians of the Past and Present', 'ANTH 3314 - Peoples of Africa', 'ANTH 3315 - Origins of Civilization', 'ANTH 3318 - Life in the Ancient Southwest', 'ANTH 3319 - Humanity and Global Environmental Change', 'ANTH 3321 - Ancient Hawaii', 'ANTH 3323 - East Asia in Motion', 'ANTH 3328 - Gender Violence: Anthropological Perspectives', 'ANTH 3329 - Contesting Development: Global and Local Impacts and Human Rights', 'ANTH 3330 - Special Topics in Anthropology', 'ANTH 3331 - Special Topics in Anthropology', 'ANTH 3333 - The Immigrant Experience', 'ANTH 3334 - Fantastic Archaeology and Pseudoscience: Lost Tribes, Sunken Continents, and Ancient Astronauts', 'ANTH 3336 - Gender and Globalization: Cultural and Ethical Issues', 'ANTH 3340 - Special Topics Abroad', 'ANTH 3345 - Introduction to Ethnographic Methods', 'ANTH 3346 - Culture and Diversity in American Life', 'ANTH 3348 - Health as a Human Right', 'ANTH 3350 - Good Eats and Forbidden Flesh: Culture, Food, and the Global Grocery Market', 'ANTH 3351 - Forensic Anthropology: Lessons Taught by Bones', 'ANTH 3353 - Indians of North America', 'ANTH 3354 - Latin America: Peoples, Places, and Power', 'ANTH 3355 - Society and Culture in Contemporary Europe', 'ANTH 3358 - Indians of the Southwest From the 16th Century to the Present', 'ANTH 3359 - Peoples and Cultures of the Middle East', 'ANTH 3361 - Language in Culture and Society', 'ANTH 3366 - Magic, Myth, and Religion Across Cultures', 'ANTH 3368 - Global Urbanism: Implosions/Explosions', 'ANTH 3370 - Fire on Earth: An Introduction to Pyrogeography', 'ANTH 3373 - Living with Fire: Past, Present, Future', 'ANTH 3374 - Cultures and Environments of the Southwest', 'ANTH 3384 - Paradise Lost? Long-Term Perspectives on Human Impacts on the Environment', 'ANTH 3385 - Sustainable Living', 'ANTH 3388 - Warfare and Violence: The Anthropology and Ethics of Human Conflict', 'ANTH 3390 - The Plundered Past: Archaeology’s Challenges in the Modern World', 'ANTH 3399 - In Search of Ice Age Americans']}, {'name': 'SET 7', 'courses': ['ANTH 4091 - Undergraduate Research', 'ANTH 4191 - Independent Study and Research', 'ANTH 4192 - Independent Study and Research', 'ANTH 4291 - Independent Study and Research', 'ANTH 4292 - Independent Study and Research', 'ANTH 4300 - World Archaeology', 'ANTH 4303 - Political Economy of Health', 'ANTH 4304 - Migration, Ethnicity, and Nationalism', 'ANTH 4305 - Applied Anthropology', 'ANTH 4307 - Global and Public Health', 'ANTH 4309 - Human Rights, Indigenous Peoples, and Nation States', 'ANTH 4325 - Introduction to Osteology I: Human-Animal Interactions', 'ANTH 4333 - Laboratory Methods in Archaeology', 'ANTH 4343 - Biomedicine, Culture, and Power', 'ANTH 4345 - Creating Global and Public Health Impact', 'ANTH 4346 - Environmental Anthropology and Development', 'ANTH 4348 - Toxic Topics: Anthropology, Environment, and Health', 'ANTH 4350 - Special Topics in Anthropology', 'ANTH 4351 - Special Topics in Anthropology', 'ANTH 4352 - Special Topics in Anthropology', 'ANTH 4381 - Internship in Anthropology', 'ANTH 4383 - Geoarchaeology', 'ANTH 4384 - Global Issues and Development: An Overview', 'ANTH 4385 - Pacific Island Archaeology', 'ANTH 4387 - Advances in the Practice of Archaeology', 'ANTH 4388 - Geospatial Archaeology', 'ANTH 4390 - Current Issues in Anthropology', 'ANTH 4391 - Independent Study and Research', 'ANTH 4392 - Independent Study and Research', 'ANTH 4399 - Integrated Themes in Anthropology', 'ANTH 5310 - Human Osteology: Biology of the Human Skeleton', 'ANTH 5334 - History of Anthropology, Part One', 'ANTH 5335 - History of Anthropology, Part Two', 'ANTH 5336 - Health in Cross-Cultural Perspective', 'ANTH 5344 - Research Methods in Ethnology', 'ANTH 5381 - Field Methods in Archaeology', 'ANTH 5382 - Field Methods in Archaeology', 'ANTH 5681 - Field Methods in Archaeology', 'ANTH 5981 - Field Methods in Archaeology']}]\n"
     ]
    }
   ],
   "source": [
    "main()"
   ]
  }
 ],
 "metadata": {
  "kernelspec": {
   "display_name": "Python 3",
   "language": "python",
   "name": "python3"
  },
  "language_info": {
   "codemirror_mode": {
    "name": "ipython",
    "version": 3
   },
   "file_extension": ".py",
   "mimetype": "text/x-python",
   "name": "python",
   "nbconvert_exporter": "python",
   "pygments_lexer": "ipython3",
   "version": "3.7.0"
  }
 },
 "nbformat": 4,
 "nbformat_minor": 2
}
